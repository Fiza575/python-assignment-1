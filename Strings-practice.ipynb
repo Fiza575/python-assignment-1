{
 "cells": [
  {
   "cell_type": "markdown",
   "id": "811578ef",
   "metadata": {},
   "source": [
    "#Strings"
   ]
  },
  {
   "cell_type": "markdown",
   "id": "6a0bbc6f",
   "metadata": {},
   "source": [
    "# Funcations of strings"
   ]
  },
  {
   "cell_type": "markdown",
   "id": "b3c7cc34",
   "metadata": {},
   "source": [
    "## Concatenation"
   ]
  },
  {
   "cell_type": "code",
   "execution_count": 2,
   "id": "70366dd8",
   "metadata": {},
   "outputs": [
    {
     "name": "stdout",
     "output_type": "stream",
     "text": [
      "Fiza Arzoo khalid\n"
     ]
    }
   ],
   "source": [
    "first_name = \"Fiza\"\n",
    "second_name = \"Arzoo\"\n",
    "last_name = \"khalid\"\n",
    "print(first_name+\" \"+second_name+\" \"+last_name)"
   ]
  },
  {
   "cell_type": "markdown",
   "id": "f3ca04cd",
   "metadata": {},
   "source": [
    "## Repeat a string"
   ]
  },
  {
   "cell_type": "code",
   "execution_count": 3,
   "id": "f69ba258",
   "metadata": {},
   "outputs": [
    {
     "name": "stdout",
     "output_type": "stream",
     "text": [
      "HelloHelloHello\n"
     ]
    }
   ],
   "source": [
    "word = \"Hello\"\n",
    "print(word*3)"
   ]
  },
  {
   "cell_type": "markdown",
   "id": "c664f8d9",
   "metadata": {},
   "source": [
    "## How long is a string"
   ]
  },
  {
   "cell_type": "code",
   "execution_count": 4,
   "id": "c14e00a5",
   "metadata": {},
   "outputs": [
    {
     "name": "stdout",
     "output_type": "stream",
     "text": [
      "5\n"
     ]
    }
   ],
   "source": [
    "name = \"Arzoo\"\n",
    "print(len(name))"
   ]
  },
  {
   "cell_type": "markdown",
   "id": "49a8c147",
   "metadata": {},
   "source": [
    "## Pick a letter by its spot"
   ]
  },
  {
   "cell_type": "code",
   "execution_count": 5,
   "id": "1f35ed31",
   "metadata": {},
   "outputs": [
    {
     "name": "stdout",
     "output_type": "stream",
     "text": [
      "i\n",
      "a\n"
     ]
    }
   ],
   "source": [
    "country = \"pakistan\"\n",
    "print(country[3])\n",
    "print(country[6])"
   ]
  },
  {
   "cell_type": "markdown",
   "id": "9a03c627",
   "metadata": {},
   "source": [
    "## Cut out a piece = Slicing\n"
   ]
  },
  {
   "cell_type": "code",
   "execution_count": 8,
   "id": "4bf26c7f",
   "metadata": {},
   "outputs": [
    {
     "name": "stdout",
     "output_type": "stream",
     "text": [
      "chak\n",
      "wal\n"
     ]
    }
   ],
   "source": [
    "city = \"chakwal\"\n",
    "print(city[0:4])\n",
    "print(city[4:7])"
   ]
  },
  {
   "cell_type": "markdown",
   "id": "dd1832c5",
   "metadata": {},
   "source": [
    "## Changing letter case"
   ]
  },
  {
   "cell_type": "markdown",
   "id": "3788489d",
   "metadata": {},
   "source": [
    "### All in Uppercase"
   ]
  },
  {
   "cell_type": "code",
   "execution_count": 9,
   "id": "3b387d73",
   "metadata": {},
   "outputs": [
    {
     "name": "stdout",
     "output_type": "stream",
     "text": [
      "HELLO\n"
     ]
    }
   ],
   "source": [
    "word = \"hello\"\n",
    "print(word.upper())"
   ]
  },
  {
   "cell_type": "markdown",
   "id": "e834d8c4",
   "metadata": {},
   "source": [
    "### All in Lowercase"
   ]
  },
  {
   "cell_type": "code",
   "execution_count": 10,
   "id": "bd5969e4",
   "metadata": {},
   "outputs": [
    {
     "name": "stdout",
     "output_type": "stream",
     "text": [
      "hello\n"
     ]
    }
   ],
   "source": [
    "word = \"Hello\"\n",
    "print(word.lower())"
   ]
  },
  {
   "cell_type": "markdown",
   "id": "40247b4e",
   "metadata": {},
   "source": [
    "### Capitalize the first letter of each word"
   ]
  },
  {
   "cell_type": "code",
   "execution_count": 11,
   "id": "2232b935",
   "metadata": {},
   "outputs": [
    {
     "name": "stdout",
     "output_type": "stream",
     "text": [
      "Hello World\n"
     ]
    }
   ],
   "source": [
    "sentence = \"hello world\"\n",
    "print(sentence.title())"
   ]
  },
  {
   "cell_type": "markdown",
   "id": "9e514276",
   "metadata": {},
   "source": [
    "### Capitalize the first letter of the string"
   ]
  },
  {
   "cell_type": "code",
   "execution_count": 12,
   "id": "9cadde26",
   "metadata": {},
   "outputs": [
    {
     "name": "stdout",
     "output_type": "stream",
     "text": [
      "Hello\n"
     ]
    }
   ],
   "source": [
    "word = \"hello\"\n",
    "print(word.capitalize())"
   ]
  },
  {
   "cell_type": "markdown",
   "id": "4ae2d36f",
   "metadata": {},
   "source": [
    "## Check if something is inside a string"
   ]
  },
  {
   "cell_type": "code",
   "execution_count": 13,
   "id": "9e556e45",
   "metadata": {},
   "outputs": [
    {
     "name": "stdout",
     "output_type": "stream",
     "text": [
      "True\n",
      "False\n"
     ]
    }
   ],
   "source": [
    "name = \"Arzoo\"\n",
    "print(\"z\"in name)\n",
    "print(\"s\"in name)"
   ]
  },
  {
   "cell_type": "markdown",
   "id": "cab03dc9",
   "metadata": {},
   "source": [
    "## To change a word or letter"
   ]
  },
  {
   "cell_type": "code",
   "execution_count": 1,
   "id": "d7a4dd23",
   "metadata": {},
   "outputs": [
    {
     "name": "stdout",
     "output_type": "stream",
     "text": [
      "I Love Pakistan\n"
     ]
    }
   ],
   "source": [
    "text = \"I Love Chakwal\"\n",
    "new_text =text.replace(\"Chakwal\",\"Pakistan\")\n",
    "print(new_text)"
   ]
  },
  {
   "cell_type": "markdown",
   "id": "50f21286",
   "metadata": {},
   "source": [
    "## Break a sentence"
   ]
  },
  {
   "cell_type": "code",
   "execution_count": 3,
   "id": "eb5d9d23",
   "metadata": {},
   "outputs": [
    {
     "name": "stdout",
     "output_type": "stream",
     "text": [
      "['My', 'name', 'is', 'Arzoo']\n"
     ]
    }
   ],
   "source": [
    "sentence = \"My name is Arzoo\"\n",
    "words = sentence.split()\n",
    "print(words)"
   ]
  },
  {
   "cell_type": "markdown",
   "id": "3f6b1cbb",
   "metadata": {},
   "source": [
    "## Glue words together"
   ]
  },
  {
   "cell_type": "code",
   "execution_count": 4,
   "id": "ceb056e4",
   "metadata": {},
   "outputs": [
    {
     "name": "stdout",
     "output_type": "stream",
     "text": [
      "Pakistan is my country\n"
     ]
    }
   ],
   "source": [
    "sentence = \"Pakistan\",\"is\",\"my\",\"country\"\n",
    "words = \" \".join(sentence)\n",
    "print(words)"
   ]
  }
 ],
 "metadata": {
  "kernelspec": {
   "display_name": "Python (Chromebook)",
   "language": "python",
   "name": "chromebook-env"
  },
  "language_info": {
   "codemirror_mode": {
    "name": "ipython",
    "version": 3
   },
   "file_extension": ".py",
   "mimetype": "text/x-python",
   "name": "python",
   "nbconvert_exporter": "python",
   "pygments_lexer": "ipython3",
   "version": "3.12.9"
  }
 },
 "nbformat": 4,
 "nbformat_minor": 5
}
