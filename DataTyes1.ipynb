{
 "cells": [
  {
   "cell_type": "markdown",
   "id": "4552534d",
   "metadata": {},
   "source": [
    "         # Data Types"
   ]
  },
  {
   "cell_type": "markdown",
   "id": "c1012ad0",
   "metadata": {},
   "source": [
    "# Boolean"
   ]
  },
  {
   "cell_type": "markdown",
   "id": "34030923",
   "metadata": {},
   "source": [
    "## True / False"
   ]
  },
  {
   "cell_type": "code",
   "execution_count": 1,
   "id": "440dafa0",
   "metadata": {},
   "outputs": [
    {
     "name": "stdout",
     "output_type": "stream",
     "text": [
      "False\n",
      "True\n",
      "False\n",
      "True\n",
      "False\n",
      "True\n"
     ]
    }
   ],
   "source": [
    "a = 10\n",
    "b = 5\n",
    "c = 10\n",
    "print(a==b)\n",
    "print(a>=b)\n",
    "print(a<=b)\n",
    "print(c>b)\n",
    "print(b>a)\n",
    "print(a==c)"
   ]
  },
  {
   "cell_type": "code",
   "execution_count": 7,
   "id": "1b5906b0",
   "metadata": {},
   "outputs": [
    {
     "name": "stdout",
     "output_type": "stream",
     "text": [
      "True\n",
      "False\n"
     ]
    }
   ],
   "source": [
    "x = True\n",
    "y = False\n",
    "print(x)\n",
    "print(y)"
   ]
  },
  {
   "cell_type": "markdown",
   "id": "01b40274",
   "metadata": {},
   "source": [
    "# List"
   ]
  },
  {
   "cell_type": "code",
   "execution_count": 4,
   "id": "367b5567",
   "metadata": {},
   "outputs": [
    {
     "name": "stdout",
     "output_type": "stream",
     "text": [
      "['Karachi', 'Lahore', 'Islamabad']\n",
      "Lahore\n"
     ]
    }
   ],
   "source": [
    "cities = [\"Karachi\",\"Lahore\",\"Islamabad\"]\n",
    "print(cities)\n",
    "print(cities[1])"
   ]
  },
  {
   "cell_type": "markdown",
   "id": "d25475bd",
   "metadata": {},
   "source": [
    "# Dictionary"
   ]
  },
  {
   "cell_type": "code",
   "execution_count": 6,
   "id": "90d35588",
   "metadata": {},
   "outputs": [
    {
     "name": "stdout",
     "output_type": "stream",
     "text": [
      "{'name': 'Arzoo', 'age': 26}\n",
      "Arzoo\n"
     ]
    }
   ],
   "source": [
    "person = {\"name\": \"Arzoo\", \"age\":26} \n",
    "print(person)\n",
    "print(person[\"name\"])"
   ]
  }
 ],
 "metadata": {
  "kernelspec": {
   "display_name": "Python (Chromebook)",
   "language": "python",
   "name": "chromebook-env"
  },
  "language_info": {
   "codemirror_mode": {
    "name": "ipython",
    "version": 3
   },
   "file_extension": ".py",
   "mimetype": "text/x-python",
   "name": "python",
   "nbconvert_exporter": "python",
   "pygments_lexer": "ipython3",
   "version": "3.12.9"
  }
 },
 "nbformat": 4,
 "nbformat_minor": 5
}
